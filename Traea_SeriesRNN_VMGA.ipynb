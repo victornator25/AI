{
  "nbformat": 4,
  "nbformat_minor": 0,
  "metadata": {
    "colab": {
      "provenance": []
    },
    "kernelspec": {
      "name": "python3",
      "display_name": "Python 3"
    },
    "language_info": {
      "name": "python"
    }
  },
  "cells": [
    {
      "cell_type": "code",
      "source": [
        "import yfinance as yf\n",
        "import pandas as pd\n",
        "import numpy as np\n",
        "import tensorflow as tf\n",
        "from sklearn.impute import SimpleImputer\n",
        "from sklearn.metrics import mean_squared_error\n",
        "import matplotlib.pyplot as plt\n",
        "\n",
        "\n",
        "#acciones que cotizan desde hace más de 20 años de las más famosas\n",
        "tickers = ['AAPL', 'MSFT', 'IBM', 'GE', 'XOM', 'JNJ', 'WMT']\n",
        "# Oro y petróleo\n",
        "commodities = commodities = ['GLD', 'USO']\n",
        "\n",
        "all_tickers = tickers + commodities\n",
        "\n",
        "# Descarga de datos desde el año 2000\n",
        "data = yf.download(all_tickers, start=\"2007-01-01\", end=\"2024-12-31\")['Close'] #tomasmos únicamente el cierre\n",
        "data = data.dropna(how='all')  #eliminar filas completamente vacías puede ser un día que no cotizaron\n"
      ],
      "metadata": {
        "colab": {
          "base_uri": "https://localhost:8080/"
        },
        "id": "5vmiOh99GhU9",
        "outputId": "d2d40315-7c23-4b53-fd17-593efa71d30a"
      },
      "execution_count": 13,
      "outputs": [
        {
          "output_type": "stream",
          "name": "stderr",
          "text": [
            "[*********************100%***********************]  9 of 9 completed\n"
          ]
        }
      ]
    },
    {
      "cell_type": "markdown",
      "source": [
        "Investigando un poco acerca de estos instrumentos de inversión, vi que los ETF que siguen los precios del oro empezó en 2004 y del petróleo en 2006, por lo tanto los datos se empezaran desde el 2007 hasta finales del año 2024. para evitar lo más posible las filas con NaN"
      ],
      "metadata": {
        "id": "qIOBz21rYqS2"
      }
    },
    {
      "cell_type": "code",
      "source": [
        "print(data.head(10))"
      ],
      "metadata": {
        "colab": {
          "base_uri": "https://localhost:8080/"
        },
        "id": "Y5dUXpHT-MoL",
        "outputId": "e56f68b5-b2cc-47de-b347-b240303588da"
      },
      "execution_count": 41,
      "outputs": [
        {
          "output_type": "stream",
          "name": "stdout",
          "text": [
            "Ticker          AAPL          GE        GLD        IBM        JNJ       MSFT  \\\n",
            "Date                                                                           \n",
            "2007-01-03  2.521844  115.851677  62.279999  51.826504  38.903000  21.235304   \n",
            "2007-01-04  2.577818  115.180481  61.650002  52.380604  39.389290  21.199743   \n",
            "2007-01-05  2.559461  114.600723  60.169998  51.906387  39.031887  21.078850   \n",
            "2007-01-08  2.572099  114.570198  60.480000  52.694954  38.967438  21.285089   \n",
            "2007-01-09  2.785764  114.570198  60.849998  53.318336  38.820976  21.306423   \n",
            "2007-01-10  2.919079  114.600723  60.590000  52.689613  38.756519  21.093071   \n",
            "2007-01-11  2.882967  115.699112  60.630001  52.561760  39.096321  21.832676   \n",
            "2007-01-12  2.847457  115.607597  62.169998  52.929405  39.043594  22.195374   \n",
            "2007-01-16  2.922087  116.278893  61.970001  53.717960  38.985016  22.159809   \n",
            "2007-01-17  2.857387  115.882256  62.639999  53.291737  39.178364  22.117146   \n",
            "\n",
            "Ticker             USO        WMT        XOM  \n",
            "Date                                          \n",
            "2007-01-03  395.200012  10.799377  39.330200  \n",
            "2007-01-04  379.119995  10.851613  38.592518  \n",
            "2007-01-05  382.640015  10.763038  38.868511  \n",
            "2007-01-08  379.920013  10.674466  38.555382  \n",
            "2007-01-09  378.399994  10.763038  38.258175  \n",
            "2007-01-10  362.880005  10.738058  37.674400  \n",
            "2007-01-11  354.720001  10.810735  37.669102  \n",
            "2007-01-12  357.040009  10.897038  38.560673  \n",
            "2007-01-16  346.720001  10.971985  38.014061  \n",
            "2007-01-17  353.760010  10.947002  38.454536  \n"
          ]
        }
      ]
    },
    {
      "cell_type": "code",
      "source": [
        "T = 101\n",
        "N = 3000  # número de series\n",
        "M = len(all_tickers)\n",
        "\n",
        "# Imputación de valores perdidos con la media\n",
        "imputer = SimpleImputer(strategy='mean')\n",
        "data_imputed = pd.DataFrame(imputer.fit_transform(data), index=data.index, columns=data.columns)\n",
        "\n",
        "# Normalizar (opcional pero recomendable)\n",
        "data_normalized = (data_imputed - data_imputed.mean()) / data_imputed.std()\n",
        "\n",
        "# Crear ventanas de tamaño T\n",
        "X_all = []\n",
        "Y_all = []\n",
        "\n",
        "for _ in range(N):\n",
        "    idx = np.random.randint(0, len(data_normalized) - T)\n",
        "    window = data_normalized.iloc[idx:idx+T].values.T  # MxT\n",
        "    X_all.append(window[:, :-1])  # Mx100 que equivale a S[:T-1]\n",
        "    Y_all.append(window[:, -1])   # Mx1 que equivale a S[-1]\n",
        "\n",
        "X = np.array(X_all)  # Shape: (N, M, 100)\n",
        "Y = np.array(Y_all)  # Shape: (N, M)\n"
      ],
      "metadata": {
        "id": "y889Ee0GJF5l"
      },
      "execution_count": 17,
      "outputs": []
    },
    {
      "cell_type": "markdown",
      "source": [
        " Esto asegura que cada ejemplo usa 100 pasos anteriores para predecir el número 101 de cada serie.\n",
        "\n"
      ],
      "metadata": {
        "id": "PS36ydkr2DJE"
      }
    },
    {
      "cell_type": "code",
      "source": [
        "from tensorflow.keras.models import Sequential\n",
        "from tensorflow.keras.layers import LSTM, Dense, TimeDistributed, InputLayer\n",
        "\n",
        "model = Sequential([\n",
        "    InputLayer(input_shape=(M, 100)),     # (M, 100)\n",
        "    tf.keras.layers.Permute((2,1)),       # (100, M)\n",
        "    LSTM(64), #usamos una RNN Long short-term memory\n",
        "    Dense(M)                              # Salida: (M,)\n",
        "])\n",
        "\n",
        "model.compile(optimizer='adam', loss='mse')\n",
        "model.summary()\n"
      ],
      "metadata": {
        "colab": {
          "base_uri": "https://localhost:8080/",
          "height": 227
        },
        "id": "otW6ZxliJv8W",
        "outputId": "9090b498-8aff-41b4-8f2e-4144c03d93bd"
      },
      "execution_count": 19,
      "outputs": [
        {
          "output_type": "display_data",
          "data": {
            "text/plain": [
              "\u001b[1mModel: \"sequential_1\"\u001b[0m\n"
            ],
            "text/html": [
              "<pre style=\"white-space:pre;overflow-x:auto;line-height:normal;font-family:Menlo,'DejaVu Sans Mono',consolas,'Courier New',monospace\"><span style=\"font-weight: bold\">Model: \"sequential_1\"</span>\n",
              "</pre>\n"
            ]
          },
          "metadata": {}
        },
        {
          "output_type": "display_data",
          "data": {
            "text/plain": [
              "┏━━━━━━━━━━━━━━━━━━━━━━━━━━━━━━━━━┳━━━━━━━━━━━━━━━━━━━━━━━━┳━━━━━━━━━━━━━━━┓\n",
              "┃\u001b[1m \u001b[0m\u001b[1mLayer (type)                   \u001b[0m\u001b[1m \u001b[0m┃\u001b[1m \u001b[0m\u001b[1mOutput Shape          \u001b[0m\u001b[1m \u001b[0m┃\u001b[1m \u001b[0m\u001b[1m      Param #\u001b[0m\u001b[1m \u001b[0m┃\n",
              "┡━━━━━━━━━━━━━━━━━━━━━━━━━━━━━━━━━╇━━━━━━━━━━━━━━━━━━━━━━━━╇━━━━━━━━━━━━━━━┩\n",
              "│ permute_1 (\u001b[38;5;33mPermute\u001b[0m)             │ (\u001b[38;5;45mNone\u001b[0m, \u001b[38;5;34m100\u001b[0m, \u001b[38;5;34m9\u001b[0m)         │             \u001b[38;5;34m0\u001b[0m │\n",
              "├─────────────────────────────────┼────────────────────────┼───────────────┤\n",
              "│ lstm_1 (\u001b[38;5;33mLSTM\u001b[0m)                   │ (\u001b[38;5;45mNone\u001b[0m, \u001b[38;5;34m64\u001b[0m)             │        \u001b[38;5;34m18,944\u001b[0m │\n",
              "├─────────────────────────────────┼────────────────────────┼───────────────┤\n",
              "│ dense_1 (\u001b[38;5;33mDense\u001b[0m)                 │ (\u001b[38;5;45mNone\u001b[0m, \u001b[38;5;34m9\u001b[0m)              │           \u001b[38;5;34m585\u001b[0m │\n",
              "└─────────────────────────────────┴────────────────────────┴───────────────┘\n"
            ],
            "text/html": [
              "<pre style=\"white-space:pre;overflow-x:auto;line-height:normal;font-family:Menlo,'DejaVu Sans Mono',consolas,'Courier New',monospace\">┏━━━━━━━━━━━━━━━━━━━━━━━━━━━━━━━━━┳━━━━━━━━━━━━━━━━━━━━━━━━┳━━━━━━━━━━━━━━━┓\n",
              "┃<span style=\"font-weight: bold\"> Layer (type)                    </span>┃<span style=\"font-weight: bold\"> Output Shape           </span>┃<span style=\"font-weight: bold\">       Param # </span>┃\n",
              "┡━━━━━━━━━━━━━━━━━━━━━━━━━━━━━━━━━╇━━━━━━━━━━━━━━━━━━━━━━━━╇━━━━━━━━━━━━━━━┩\n",
              "│ permute_1 (<span style=\"color: #0087ff; text-decoration-color: #0087ff\">Permute</span>)             │ (<span style=\"color: #00d7ff; text-decoration-color: #00d7ff\">None</span>, <span style=\"color: #00af00; text-decoration-color: #00af00\">100</span>, <span style=\"color: #00af00; text-decoration-color: #00af00\">9</span>)         │             <span style=\"color: #00af00; text-decoration-color: #00af00\">0</span> │\n",
              "├─────────────────────────────────┼────────────────────────┼───────────────┤\n",
              "│ lstm_1 (<span style=\"color: #0087ff; text-decoration-color: #0087ff\">LSTM</span>)                   │ (<span style=\"color: #00d7ff; text-decoration-color: #00d7ff\">None</span>, <span style=\"color: #00af00; text-decoration-color: #00af00\">64</span>)             │        <span style=\"color: #00af00; text-decoration-color: #00af00\">18,944</span> │\n",
              "├─────────────────────────────────┼────────────────────────┼───────────────┤\n",
              "│ dense_1 (<span style=\"color: #0087ff; text-decoration-color: #0087ff\">Dense</span>)                 │ (<span style=\"color: #00d7ff; text-decoration-color: #00d7ff\">None</span>, <span style=\"color: #00af00; text-decoration-color: #00af00\">9</span>)              │           <span style=\"color: #00af00; text-decoration-color: #00af00\">585</span> │\n",
              "└─────────────────────────────────┴────────────────────────┴───────────────┘\n",
              "</pre>\n"
            ]
          },
          "metadata": {}
        },
        {
          "output_type": "display_data",
          "data": {
            "text/plain": [
              "\u001b[1m Total params: \u001b[0m\u001b[38;5;34m19,529\u001b[0m (76.29 KB)\n"
            ],
            "text/html": [
              "<pre style=\"white-space:pre;overflow-x:auto;line-height:normal;font-family:Menlo,'DejaVu Sans Mono',consolas,'Courier New',monospace\"><span style=\"font-weight: bold\"> Total params: </span><span style=\"color: #00af00; text-decoration-color: #00af00\">19,529</span> (76.29 KB)\n",
              "</pre>\n"
            ]
          },
          "metadata": {}
        },
        {
          "output_type": "display_data",
          "data": {
            "text/plain": [
              "\u001b[1m Trainable params: \u001b[0m\u001b[38;5;34m19,529\u001b[0m (76.29 KB)\n"
            ],
            "text/html": [
              "<pre style=\"white-space:pre;overflow-x:auto;line-height:normal;font-family:Menlo,'DejaVu Sans Mono',consolas,'Courier New',monospace\"><span style=\"font-weight: bold\"> Trainable params: </span><span style=\"color: #00af00; text-decoration-color: #00af00\">19,529</span> (76.29 KB)\n",
              "</pre>\n"
            ]
          },
          "metadata": {}
        },
        {
          "output_type": "display_data",
          "data": {
            "text/plain": [
              "\u001b[1m Non-trainable params: \u001b[0m\u001b[38;5;34m0\u001b[0m (0.00 B)\n"
            ],
            "text/html": [
              "<pre style=\"white-space:pre;overflow-x:auto;line-height:normal;font-family:Menlo,'DejaVu Sans Mono',consolas,'Courier New',monospace\"><span style=\"font-weight: bold\"> Non-trainable params: </span><span style=\"color: #00af00; text-decoration-color: #00af00\">0</span> (0.00 B)\n",
              "</pre>\n"
            ]
          },
          "metadata": {}
        }
      ]
    },
    {
      "cell_type": "markdown",
      "source": [
        "se decidió optar por una LSTM por que es de las clásicas y usa una función tanh para las de activación y sigmoide para las resurrentes por default"
      ],
      "metadata": {
        "id": "_CKhQ5Yg9g4_"
      }
    },
    {
      "cell_type": "code",
      "source": [
        "history = model.fit(X, Y, epochs=20, batch_size=32, validation_split=0.2)\n"
      ],
      "metadata": {
        "colab": {
          "base_uri": "https://localhost:8080/"
        },
        "id": "0nizd01QJxi8",
        "outputId": "8645e7b1-8774-4158-d863-9f2fe8784040"
      },
      "execution_count": 20,
      "outputs": [
        {
          "output_type": "stream",
          "name": "stdout",
          "text": [
            "Epoch 1/20\n",
            "\u001b[1m75/75\u001b[0m \u001b[32m━━━━━━━━━━━━━━━━━━━━\u001b[0m\u001b[37m\u001b[0m \u001b[1m6s\u001b[0m 43ms/step - loss: 0.4497 - val_loss: 0.0325\n",
            "Epoch 2/20\n",
            "\u001b[1m75/75\u001b[0m \u001b[32m━━━━━━━━━━━━━━━━━━━━\u001b[0m\u001b[37m\u001b[0m \u001b[1m3s\u001b[0m 38ms/step - loss: 0.0242 - val_loss: 0.0148\n",
            "Epoch 3/20\n",
            "\u001b[1m75/75\u001b[0m \u001b[32m━━━━━━━━━━━━━━━━━━━━\u001b[0m\u001b[37m\u001b[0m \u001b[1m6s\u001b[0m 50ms/step - loss: 0.0132 - val_loss: 0.0109\n",
            "Epoch 4/20\n",
            "\u001b[1m75/75\u001b[0m \u001b[32m━━━━━━━━━━━━━━━━━━━━\u001b[0m\u001b[37m\u001b[0m \u001b[1m3s\u001b[0m 44ms/step - loss: 0.0092 - val_loss: 0.0086\n",
            "Epoch 5/20\n",
            "\u001b[1m75/75\u001b[0m \u001b[32m━━━━━━━━━━━━━━━━━━━━\u001b[0m\u001b[37m\u001b[0m \u001b[1m5s\u001b[0m 38ms/step - loss: 0.0071 - val_loss: 0.0076\n",
            "Epoch 6/20\n",
            "\u001b[1m75/75\u001b[0m \u001b[32m━━━━━━━━━━━━━━━━━━━━\u001b[0m\u001b[37m\u001b[0m \u001b[1m3s\u001b[0m 38ms/step - loss: 0.0063 - val_loss: 0.0063\n",
            "Epoch 7/20\n",
            "\u001b[1m75/75\u001b[0m \u001b[32m━━━━━━━━━━━━━━━━━━━━\u001b[0m\u001b[37m\u001b[0m \u001b[1m4s\u001b[0m 55ms/step - loss: 0.0055 - val_loss: 0.0058\n",
            "Epoch 8/20\n",
            "\u001b[1m75/75\u001b[0m \u001b[32m━━━━━━━━━━━━━━━━━━━━\u001b[0m\u001b[37m\u001b[0m \u001b[1m4s\u001b[0m 39ms/step - loss: 0.0051 - val_loss: 0.0053\n",
            "Epoch 9/20\n",
            "\u001b[1m75/75\u001b[0m \u001b[32m━━━━━━━━━━━━━━━━━━━━\u001b[0m\u001b[37m\u001b[0m \u001b[1m5s\u001b[0m 38ms/step - loss: 0.0048 - val_loss: 0.0049\n",
            "Epoch 10/20\n",
            "\u001b[1m75/75\u001b[0m \u001b[32m━━━━━━━━━━━━━━━━━━━━\u001b[0m\u001b[37m\u001b[0m \u001b[1m4s\u001b[0m 56ms/step - loss: 0.0044 - val_loss: 0.0047\n",
            "Epoch 11/20\n",
            "\u001b[1m75/75\u001b[0m \u001b[32m━━━━━━━━━━━━━━━━━━━━\u001b[0m\u001b[37m\u001b[0m \u001b[1m4s\u001b[0m 45ms/step - loss: 0.0042 - val_loss: 0.0044\n",
            "Epoch 12/20\n",
            "\u001b[1m75/75\u001b[0m \u001b[32m━━━━━━━━━━━━━━━━━━━━\u001b[0m\u001b[37m\u001b[0m \u001b[1m3s\u001b[0m 40ms/step - loss: 0.0040 - val_loss: 0.0044\n",
            "Epoch 13/20\n",
            "\u001b[1m75/75\u001b[0m \u001b[32m━━━━━━━━━━━━━━━━━━━━\u001b[0m\u001b[37m\u001b[0m \u001b[1m4s\u001b[0m 50ms/step - loss: 0.0040 - val_loss: 0.0037\n",
            "Epoch 14/20\n",
            "\u001b[1m75/75\u001b[0m \u001b[32m━━━━━━━━━━━━━━━━━━━━\u001b[0m\u001b[37m\u001b[0m \u001b[1m3s\u001b[0m 45ms/step - loss: 0.0036 - val_loss: 0.0037\n",
            "Epoch 15/20\n",
            "\u001b[1m75/75\u001b[0m \u001b[32m━━━━━━━━━━━━━━━━━━━━\u001b[0m\u001b[37m\u001b[0m \u001b[1m3s\u001b[0m 38ms/step - loss: 0.0035 - val_loss: 0.0038\n",
            "Epoch 16/20\n",
            "\u001b[1m75/75\u001b[0m \u001b[32m━━━━━━━━━━━━━━━━━━━━\u001b[0m\u001b[37m\u001b[0m \u001b[1m3s\u001b[0m 40ms/step - loss: 0.0036 - val_loss: 0.0035\n",
            "Epoch 17/20\n",
            "\u001b[1m75/75\u001b[0m \u001b[32m━━━━━━━━━━━━━━━━━━━━\u001b[0m\u001b[37m\u001b[0m \u001b[1m6s\u001b[0m 52ms/step - loss: 0.0033 - val_loss: 0.0035\n",
            "Epoch 18/20\n",
            "\u001b[1m75/75\u001b[0m \u001b[32m━━━━━━━━━━━━━━━━━━━━\u001b[0m\u001b[37m\u001b[0m \u001b[1m3s\u001b[0m 39ms/step - loss: 0.0031 - val_loss: 0.0034\n",
            "Epoch 19/20\n",
            "\u001b[1m75/75\u001b[0m \u001b[32m━━━━━━━━━━━━━━━━━━━━\u001b[0m\u001b[37m\u001b[0m \u001b[1m3s\u001b[0m 39ms/step - loss: 0.0031 - val_loss: 0.0037\n",
            "Epoch 20/20\n",
            "\u001b[1m75/75\u001b[0m \u001b[32m━━━━━━━━━━━━━━━━━━━━\u001b[0m\u001b[37m\u001b[0m \u001b[1m6s\u001b[0m 57ms/step - loss: 0.0032 - val_loss: 0.0030\n"
          ]
        }
      ]
    },
    {
      "cell_type": "code",
      "source": [
        "# Baseline: usar el último valor de la serie como predicción, es decir el precio es el mismo o no hacer nada\n",
        "Y_baseline = X[:, :, -1]  # Última columna de cada serie\n",
        "\n",
        "# Métricas de error\n",
        "preds = model.predict(X)\n",
        "\n",
        "mse_model = mean_squared_error(Y.flatten(), preds.flatten())\n",
        "mse_baseline = mean_squared_error(Y.flatten(), Y_baseline.flatten())\n",
        "\n",
        "print(f\"Error MSE - Modelo LSTM: {mse_model:.4f}\")\n",
        "print(f\"Error MSE - Baseline: {mse_baseline:.4f}\")\n"
      ],
      "metadata": {
        "colab": {
          "base_uri": "https://localhost:8080/"
        },
        "id": "8gBfJj2JKzLg",
        "outputId": "faa83ca6-adc6-4bf4-d377-39da6e3686aa"
      },
      "execution_count": 25,
      "outputs": [
        {
          "output_type": "stream",
          "name": "stdout",
          "text": [
            "\u001b[1m94/94\u001b[0m \u001b[32m━━━━━━━━━━━━━━━━━━━━\u001b[0m\u001b[37m\u001b[0m \u001b[1m1s\u001b[0m 16ms/step\n",
            "Error MSE - Modelo LSTM: 0.0029\n",
            "Error MSE - Baseline: 0.0012\n"
          ]
        }
      ]
    },
    {
      "cell_type": "code",
      "source": [
        "# Medias y desviaciones originales\n",
        "mean = data_imputed.mean().values  # shape: (M,)\n",
        "std = data_imputed.std().values    # shape: (M,)\n",
        "\n",
        "# Desnormalizar la predicción de la primera serie\n",
        "real_pred = preds[0] * std + mean\n",
        "\n",
        "print(\"Predicción desnormalizada para la primera serie:\")\n",
        "for ticker, value in zip(all_tickers, real_pred):\n",
        "    print(f\"{ticker}: {value:.2f}\")"
      ],
      "metadata": {
        "colab": {
          "base_uri": "https://localhost:8080/"
        },
        "id": "EIWo8L8pK5dC",
        "outputId": "dea60a11-6026-41d2-e4f3-0acb28c83f54"
      },
      "execution_count": 40,
      "outputs": [
        {
          "output_type": "stream",
          "name": "stdout",
          "text": [
            "Predicción desnormalizada para la n serie:\n",
            "AAPL: 14.25\n",
            "MSFT: 69.11\n",
            "IBM: 159.73\n",
            "GE: 105.96\n",
            "XOM: 44.72\n",
            "JNJ: 19.58\n",
            "WMT: 305.67\n",
            "GLD: 14.73\n",
            "USO: 49.93\n"
          ]
        }
      ]
    },
    {
      "cell_type": "code",
      "source": [
        "data.head(100) #ultimos valores de los datos iniciales"
      ],
      "metadata": {
        "colab": {
          "base_uri": "https://localhost:8080/",
          "height": 455
        },
        "id": "P9MaXFZxw9c2",
        "outputId": "9ce90a2a-9d4e-4626-8fde-44dcdea90ea6"
      },
      "execution_count": 54,
      "outputs": [
        {
          "output_type": "execute_result",
          "data": {
            "text/plain": [
              "Ticker          AAPL          GE        GLD        IBM        JNJ       MSFT  \\\n",
              "Date                                                                           \n",
              "2007-01-03  2.521844  115.851677  62.279999  51.826504  38.903000  21.235304   \n",
              "2007-01-04  2.577818  115.180481  61.650002  52.380604  39.389290  21.199743   \n",
              "2007-01-05  2.559461  114.600723  60.169998  51.906387  39.031887  21.078850   \n",
              "2007-01-08  2.572099  114.570198  60.480000  52.694954  38.967438  21.285089   \n",
              "2007-01-09  2.785764  114.570198  60.849998  53.318336  38.820976  21.306423   \n",
              "...              ...         ...        ...        ...        ...        ...   \n",
              "2007-05-21  3.369881  114.086739  65.669998  57.426579  37.432312  22.229929   \n",
              "2007-05-22  3.416827  114.824844  65.199997  57.244183  37.467655  21.972185   \n",
              "2007-05-23  3.397266  115.624344  65.540001  56.643307  37.603199  21.893446   \n",
              "2007-05-24  3.331060  114.947800  64.750000  55.768791  37.653637  21.599903   \n",
              "2007-05-25  3.419234  115.501350  64.940002  56.428707  37.481617  21.821835   \n",
              "\n",
              "Ticker             USO        WMT        XOM  \n",
              "Date                                          \n",
              "2007-01-03  395.200012  10.799377  39.330200  \n",
              "2007-01-04  379.119995  10.851613  38.592518  \n",
              "2007-01-05  382.640015  10.763038  38.868511  \n",
              "2007-01-08  379.920013  10.674466  38.555382  \n",
              "2007-01-09  378.399994  10.763038  38.258175  \n",
              "...                ...        ...        ...  \n",
              "2007-05-21  406.559998  10.688218  44.742493  \n",
              "2007-05-22  399.359985  10.669883  44.303574  \n",
              "2007-05-23  401.359985  10.621736  44.421314  \n",
              "2007-05-24  391.440002  10.695102  44.041283  \n",
              "2007-05-25  396.000000  10.754705  44.699669  \n",
              "\n",
              "[100 rows x 9 columns]"
            ],
            "text/html": [
              "\n",
              "  <div id=\"df-d889c483-57e7-4984-8ca2-ff61bd74b4c0\" class=\"colab-df-container\">\n",
              "    <div>\n",
              "<style scoped>\n",
              "    .dataframe tbody tr th:only-of-type {\n",
              "        vertical-align: middle;\n",
              "    }\n",
              "\n",
              "    .dataframe tbody tr th {\n",
              "        vertical-align: top;\n",
              "    }\n",
              "\n",
              "    .dataframe thead th {\n",
              "        text-align: right;\n",
              "    }\n",
              "</style>\n",
              "<table border=\"1\" class=\"dataframe\">\n",
              "  <thead>\n",
              "    <tr style=\"text-align: right;\">\n",
              "      <th>Ticker</th>\n",
              "      <th>AAPL</th>\n",
              "      <th>GE</th>\n",
              "      <th>GLD</th>\n",
              "      <th>IBM</th>\n",
              "      <th>JNJ</th>\n",
              "      <th>MSFT</th>\n",
              "      <th>USO</th>\n",
              "      <th>WMT</th>\n",
              "      <th>XOM</th>\n",
              "    </tr>\n",
              "    <tr>\n",
              "      <th>Date</th>\n",
              "      <th></th>\n",
              "      <th></th>\n",
              "      <th></th>\n",
              "      <th></th>\n",
              "      <th></th>\n",
              "      <th></th>\n",
              "      <th></th>\n",
              "      <th></th>\n",
              "      <th></th>\n",
              "    </tr>\n",
              "  </thead>\n",
              "  <tbody>\n",
              "    <tr>\n",
              "      <th>2007-01-03</th>\n",
              "      <td>2.521844</td>\n",
              "      <td>115.851677</td>\n",
              "      <td>62.279999</td>\n",
              "      <td>51.826504</td>\n",
              "      <td>38.903000</td>\n",
              "      <td>21.235304</td>\n",
              "      <td>395.200012</td>\n",
              "      <td>10.799377</td>\n",
              "      <td>39.330200</td>\n",
              "    </tr>\n",
              "    <tr>\n",
              "      <th>2007-01-04</th>\n",
              "      <td>2.577818</td>\n",
              "      <td>115.180481</td>\n",
              "      <td>61.650002</td>\n",
              "      <td>52.380604</td>\n",
              "      <td>39.389290</td>\n",
              "      <td>21.199743</td>\n",
              "      <td>379.119995</td>\n",
              "      <td>10.851613</td>\n",
              "      <td>38.592518</td>\n",
              "    </tr>\n",
              "    <tr>\n",
              "      <th>2007-01-05</th>\n",
              "      <td>2.559461</td>\n",
              "      <td>114.600723</td>\n",
              "      <td>60.169998</td>\n",
              "      <td>51.906387</td>\n",
              "      <td>39.031887</td>\n",
              "      <td>21.078850</td>\n",
              "      <td>382.640015</td>\n",
              "      <td>10.763038</td>\n",
              "      <td>38.868511</td>\n",
              "    </tr>\n",
              "    <tr>\n",
              "      <th>2007-01-08</th>\n",
              "      <td>2.572099</td>\n",
              "      <td>114.570198</td>\n",
              "      <td>60.480000</td>\n",
              "      <td>52.694954</td>\n",
              "      <td>38.967438</td>\n",
              "      <td>21.285089</td>\n",
              "      <td>379.920013</td>\n",
              "      <td>10.674466</td>\n",
              "      <td>38.555382</td>\n",
              "    </tr>\n",
              "    <tr>\n",
              "      <th>2007-01-09</th>\n",
              "      <td>2.785764</td>\n",
              "      <td>114.570198</td>\n",
              "      <td>60.849998</td>\n",
              "      <td>53.318336</td>\n",
              "      <td>38.820976</td>\n",
              "      <td>21.306423</td>\n",
              "      <td>378.399994</td>\n",
              "      <td>10.763038</td>\n",
              "      <td>38.258175</td>\n",
              "    </tr>\n",
              "    <tr>\n",
              "      <th>...</th>\n",
              "      <td>...</td>\n",
              "      <td>...</td>\n",
              "      <td>...</td>\n",
              "      <td>...</td>\n",
              "      <td>...</td>\n",
              "      <td>...</td>\n",
              "      <td>...</td>\n",
              "      <td>...</td>\n",
              "      <td>...</td>\n",
              "    </tr>\n",
              "    <tr>\n",
              "      <th>2007-05-21</th>\n",
              "      <td>3.369881</td>\n",
              "      <td>114.086739</td>\n",
              "      <td>65.669998</td>\n",
              "      <td>57.426579</td>\n",
              "      <td>37.432312</td>\n",
              "      <td>22.229929</td>\n",
              "      <td>406.559998</td>\n",
              "      <td>10.688218</td>\n",
              "      <td>44.742493</td>\n",
              "    </tr>\n",
              "    <tr>\n",
              "      <th>2007-05-22</th>\n",
              "      <td>3.416827</td>\n",
              "      <td>114.824844</td>\n",
              "      <td>65.199997</td>\n",
              "      <td>57.244183</td>\n",
              "      <td>37.467655</td>\n",
              "      <td>21.972185</td>\n",
              "      <td>399.359985</td>\n",
              "      <td>10.669883</td>\n",
              "      <td>44.303574</td>\n",
              "    </tr>\n",
              "    <tr>\n",
              "      <th>2007-05-23</th>\n",
              "      <td>3.397266</td>\n",
              "      <td>115.624344</td>\n",
              "      <td>65.540001</td>\n",
              "      <td>56.643307</td>\n",
              "      <td>37.603199</td>\n",
              "      <td>21.893446</td>\n",
              "      <td>401.359985</td>\n",
              "      <td>10.621736</td>\n",
              "      <td>44.421314</td>\n",
              "    </tr>\n",
              "    <tr>\n",
              "      <th>2007-05-24</th>\n",
              "      <td>3.331060</td>\n",
              "      <td>114.947800</td>\n",
              "      <td>64.750000</td>\n",
              "      <td>55.768791</td>\n",
              "      <td>37.653637</td>\n",
              "      <td>21.599903</td>\n",
              "      <td>391.440002</td>\n",
              "      <td>10.695102</td>\n",
              "      <td>44.041283</td>\n",
              "    </tr>\n",
              "    <tr>\n",
              "      <th>2007-05-25</th>\n",
              "      <td>3.419234</td>\n",
              "      <td>115.501350</td>\n",
              "      <td>64.940002</td>\n",
              "      <td>56.428707</td>\n",
              "      <td>37.481617</td>\n",
              "      <td>21.821835</td>\n",
              "      <td>396.000000</td>\n",
              "      <td>10.754705</td>\n",
              "      <td>44.699669</td>\n",
              "    </tr>\n",
              "  </tbody>\n",
              "</table>\n",
              "<p>100 rows × 9 columns</p>\n",
              "</div>\n",
              "    <div class=\"colab-df-buttons\">\n",
              "\n",
              "  <div class=\"colab-df-container\">\n",
              "    <button class=\"colab-df-convert\" onclick=\"convertToInteractive('df-d889c483-57e7-4984-8ca2-ff61bd74b4c0')\"\n",
              "            title=\"Convert this dataframe to an interactive table.\"\n",
              "            style=\"display:none;\">\n",
              "\n",
              "  <svg xmlns=\"http://www.w3.org/2000/svg\" height=\"24px\" viewBox=\"0 -960 960 960\">\n",
              "    <path d=\"M120-120v-720h720v720H120Zm60-500h600v-160H180v160Zm220 220h160v-160H400v160Zm0 220h160v-160H400v160ZM180-400h160v-160H180v160Zm440 0h160v-160H620v160ZM180-180h160v-160H180v160Zm440 0h160v-160H620v160Z\"/>\n",
              "  </svg>\n",
              "    </button>\n",
              "\n",
              "  <style>\n",
              "    .colab-df-container {\n",
              "      display:flex;\n",
              "      gap: 12px;\n",
              "    }\n",
              "\n",
              "    .colab-df-convert {\n",
              "      background-color: #E8F0FE;\n",
              "      border: none;\n",
              "      border-radius: 50%;\n",
              "      cursor: pointer;\n",
              "      display: none;\n",
              "      fill: #1967D2;\n",
              "      height: 32px;\n",
              "      padding: 0 0 0 0;\n",
              "      width: 32px;\n",
              "    }\n",
              "\n",
              "    .colab-df-convert:hover {\n",
              "      background-color: #E2EBFA;\n",
              "      box-shadow: 0px 1px 2px rgba(60, 64, 67, 0.3), 0px 1px 3px 1px rgba(60, 64, 67, 0.15);\n",
              "      fill: #174EA6;\n",
              "    }\n",
              "\n",
              "    .colab-df-buttons div {\n",
              "      margin-bottom: 4px;\n",
              "    }\n",
              "\n",
              "    [theme=dark] .colab-df-convert {\n",
              "      background-color: #3B4455;\n",
              "      fill: #D2E3FC;\n",
              "    }\n",
              "\n",
              "    [theme=dark] .colab-df-convert:hover {\n",
              "      background-color: #434B5C;\n",
              "      box-shadow: 0px 1px 3px 1px rgba(0, 0, 0, 0.15);\n",
              "      filter: drop-shadow(0px 1px 2px rgba(0, 0, 0, 0.3));\n",
              "      fill: #FFFFFF;\n",
              "    }\n",
              "  </style>\n",
              "\n",
              "    <script>\n",
              "      const buttonEl =\n",
              "        document.querySelector('#df-d889c483-57e7-4984-8ca2-ff61bd74b4c0 button.colab-df-convert');\n",
              "      buttonEl.style.display =\n",
              "        google.colab.kernel.accessAllowed ? 'block' : 'none';\n",
              "\n",
              "      async function convertToInteractive(key) {\n",
              "        const element = document.querySelector('#df-d889c483-57e7-4984-8ca2-ff61bd74b4c0');\n",
              "        const dataTable =\n",
              "          await google.colab.kernel.invokeFunction('convertToInteractive',\n",
              "                                                    [key], {});\n",
              "        if (!dataTable) return;\n",
              "\n",
              "        const docLinkHtml = 'Like what you see? Visit the ' +\n",
              "          '<a target=\"_blank\" href=https://colab.research.google.com/notebooks/data_table.ipynb>data table notebook</a>'\n",
              "          + ' to learn more about interactive tables.';\n",
              "        element.innerHTML = '';\n",
              "        dataTable['output_type'] = 'display_data';\n",
              "        await google.colab.output.renderOutput(dataTable, element);\n",
              "        const docLink = document.createElement('div');\n",
              "        docLink.innerHTML = docLinkHtml;\n",
              "        element.appendChild(docLink);\n",
              "      }\n",
              "    </script>\n",
              "  </div>\n",
              "\n",
              "\n",
              "    <div id=\"df-04f63d63-f0f4-4c63-bb3f-fdd79b91bdf3\">\n",
              "      <button class=\"colab-df-quickchart\" onclick=\"quickchart('df-04f63d63-f0f4-4c63-bb3f-fdd79b91bdf3')\"\n",
              "                title=\"Suggest charts\"\n",
              "                style=\"display:none;\">\n",
              "\n",
              "<svg xmlns=\"http://www.w3.org/2000/svg\" height=\"24px\"viewBox=\"0 0 24 24\"\n",
              "     width=\"24px\">\n",
              "    <g>\n",
              "        <path d=\"M19 3H5c-1.1 0-2 .9-2 2v14c0 1.1.9 2 2 2h14c1.1 0 2-.9 2-2V5c0-1.1-.9-2-2-2zM9 17H7v-7h2v7zm4 0h-2V7h2v10zm4 0h-2v-4h2v4z\"/>\n",
              "    </g>\n",
              "</svg>\n",
              "      </button>\n",
              "\n",
              "<style>\n",
              "  .colab-df-quickchart {\n",
              "      --bg-color: #E8F0FE;\n",
              "      --fill-color: #1967D2;\n",
              "      --hover-bg-color: #E2EBFA;\n",
              "      --hover-fill-color: #174EA6;\n",
              "      --disabled-fill-color: #AAA;\n",
              "      --disabled-bg-color: #DDD;\n",
              "  }\n",
              "\n",
              "  [theme=dark] .colab-df-quickchart {\n",
              "      --bg-color: #3B4455;\n",
              "      --fill-color: #D2E3FC;\n",
              "      --hover-bg-color: #434B5C;\n",
              "      --hover-fill-color: #FFFFFF;\n",
              "      --disabled-bg-color: #3B4455;\n",
              "      --disabled-fill-color: #666;\n",
              "  }\n",
              "\n",
              "  .colab-df-quickchart {\n",
              "    background-color: var(--bg-color);\n",
              "    border: none;\n",
              "    border-radius: 50%;\n",
              "    cursor: pointer;\n",
              "    display: none;\n",
              "    fill: var(--fill-color);\n",
              "    height: 32px;\n",
              "    padding: 0;\n",
              "    width: 32px;\n",
              "  }\n",
              "\n",
              "  .colab-df-quickchart:hover {\n",
              "    background-color: var(--hover-bg-color);\n",
              "    box-shadow: 0 1px 2px rgba(60, 64, 67, 0.3), 0 1px 3px 1px rgba(60, 64, 67, 0.15);\n",
              "    fill: var(--button-hover-fill-color);\n",
              "  }\n",
              "\n",
              "  .colab-df-quickchart-complete:disabled,\n",
              "  .colab-df-quickchart-complete:disabled:hover {\n",
              "    background-color: var(--disabled-bg-color);\n",
              "    fill: var(--disabled-fill-color);\n",
              "    box-shadow: none;\n",
              "  }\n",
              "\n",
              "  .colab-df-spinner {\n",
              "    border: 2px solid var(--fill-color);\n",
              "    border-color: transparent;\n",
              "    border-bottom-color: var(--fill-color);\n",
              "    animation:\n",
              "      spin 1s steps(1) infinite;\n",
              "  }\n",
              "\n",
              "  @keyframes spin {\n",
              "    0% {\n",
              "      border-color: transparent;\n",
              "      border-bottom-color: var(--fill-color);\n",
              "      border-left-color: var(--fill-color);\n",
              "    }\n",
              "    20% {\n",
              "      border-color: transparent;\n",
              "      border-left-color: var(--fill-color);\n",
              "      border-top-color: var(--fill-color);\n",
              "    }\n",
              "    30% {\n",
              "      border-color: transparent;\n",
              "      border-left-color: var(--fill-color);\n",
              "      border-top-color: var(--fill-color);\n",
              "      border-right-color: var(--fill-color);\n",
              "    }\n",
              "    40% {\n",
              "      border-color: transparent;\n",
              "      border-right-color: var(--fill-color);\n",
              "      border-top-color: var(--fill-color);\n",
              "    }\n",
              "    60% {\n",
              "      border-color: transparent;\n",
              "      border-right-color: var(--fill-color);\n",
              "    }\n",
              "    80% {\n",
              "      border-color: transparent;\n",
              "      border-right-color: var(--fill-color);\n",
              "      border-bottom-color: var(--fill-color);\n",
              "    }\n",
              "    90% {\n",
              "      border-color: transparent;\n",
              "      border-bottom-color: var(--fill-color);\n",
              "    }\n",
              "  }\n",
              "</style>\n",
              "\n",
              "      <script>\n",
              "        async function quickchart(key) {\n",
              "          const quickchartButtonEl =\n",
              "            document.querySelector('#' + key + ' button');\n",
              "          quickchartButtonEl.disabled = true;  // To prevent multiple clicks.\n",
              "          quickchartButtonEl.classList.add('colab-df-spinner');\n",
              "          try {\n",
              "            const charts = await google.colab.kernel.invokeFunction(\n",
              "                'suggestCharts', [key], {});\n",
              "          } catch (error) {\n",
              "            console.error('Error during call to suggestCharts:', error);\n",
              "          }\n",
              "          quickchartButtonEl.classList.remove('colab-df-spinner');\n",
              "          quickchartButtonEl.classList.add('colab-df-quickchart-complete');\n",
              "        }\n",
              "        (() => {\n",
              "          let quickchartButtonEl =\n",
              "            document.querySelector('#df-04f63d63-f0f4-4c63-bb3f-fdd79b91bdf3 button');\n",
              "          quickchartButtonEl.style.display =\n",
              "            google.colab.kernel.accessAllowed ? 'block' : 'none';\n",
              "        })();\n",
              "      </script>\n",
              "    </div>\n",
              "\n",
              "    </div>\n",
              "  </div>\n"
            ],
            "application/vnd.google.colaboratory.intrinsic+json": {
              "type": "dataframe",
              "variable_name": "data",
              "summary": "{\n  \"name\": \"data\",\n  \"rows\": 4529,\n  \"fields\": [\n    {\n      \"column\": \"Date\",\n      \"properties\": {\n        \"dtype\": \"date\",\n        \"min\": \"2007-01-03 00:00:00\",\n        \"max\": \"2024-12-30 00:00:00\",\n        \"num_unique_values\": 4529,\n        \"samples\": [\n          \"2018-04-30 00:00:00\",\n          \"2013-09-25 00:00:00\",\n          \"2010-10-25 00:00:00\"\n        ],\n        \"semantic_type\": \"\",\n        \"description\": \"\"\n      }\n    },\n    {\n      \"column\": \"AAPL\",\n      \"properties\": {\n        \"dtype\": \"number\",\n        \"std\": 64.31236521923114,\n        \"min\": 2.3533194065093994,\n        \"max\": 258.7355041503906,\n        \"num_unique_values\": 4449,\n        \"samples\": [\n          7.800863265991211,\n          27.388607025146484,\n          12.580025672912598\n        ],\n        \"semantic_type\": \"\",\n        \"description\": \"\"\n      }\n    },\n    {\n      \"column\": \"GE\",\n      \"properties\": {\n        \"dtype\": \"number\",\n        \"std\": 34.13830433095449,\n        \"min\": 22.722518920898438,\n        \"max\": 193.55397033691406,\n        \"num_unique_values\": 4052,\n        \"samples\": [\n          164.04415893554688,\n          122.06507110595703,\n          124.21674346923828\n        ],\n        \"semantic_type\": \"\",\n        \"description\": \"\"\n      }\n    },\n    {\n      \"column\": \"GLD\",\n      \"properties\": {\n        \"dtype\": \"number\",\n        \"std\": 37.465389704431566,\n        \"min\": 60.16999816894531,\n        \"max\": 257.5,\n        \"num_unique_values\": 3642,\n        \"samples\": [\n          74.0,\n          185.52999877929688,\n          167.91000366210938\n        ],\n        \"semantic_type\": \"\",\n        \"description\": \"\"\n      }\n    },\n    {\n      \"column\": \"IBM\",\n      \"properties\": {\n        \"dtype\": \"number\",\n        \"std\": 30.766832133818685,\n        \"min\": 39.44001770019531,\n        \"max\": 236.46463012695312,\n        \"num_unique_values\": 4439,\n        \"samples\": [\n          110.6778335571289,\n          138.4230194091797,\n          103.46728515625\n        ],\n        \"semantic_type\": \"\",\n        \"description\": \"\"\n      }\n    },\n    {\n      \"column\": \"JNJ\",\n      \"properties\": {\n        \"dtype\": \"number\",\n        \"std\": 43.95135348668284,\n        \"min\": 29.045183181762695,\n        \"max\": 170.24351501464844,\n        \"num_unique_values\": 4335,\n        \"samples\": [\n          98.59207153320312,\n          44.46857452392578,\n          137.0574493408203\n        ],\n        \"semantic_type\": \"\",\n        \"description\": \"\"\n      }\n    },\n    {\n      \"column\": \"MSFT\",\n      \"properties\": {\n        \"dtype\": \"number\",\n        \"std\": 121.18502096359985,\n        \"min\": 11.198265075683594,\n        \"max\": 464.8543395996094,\n        \"num_unique_values\": 4283,\n        \"samples\": [\n          426.43963623046875,\n          16.424287796020508,\n          107.01781463623047\n        ],\n        \"semantic_type\": \"\",\n        \"description\": \"\"\n      }\n    },\n    {\n      \"column\": \"USO\",\n      \"properties\": {\n        \"dtype\": \"number\",\n        \"std\": 166.2890941978565,\n        \"min\": 17.040000915527344,\n        \"max\": 939.8400268554688,\n        \"num_unique_values\": 3032,\n        \"samples\": [\n          254.8000030517578,\n          570.9600219726562,\n          273.3599853515625\n        ],\n        \"semantic_type\": \"\",\n        \"description\": \"\"\n      }\n    },\n    {\n      \"column\": \"WMT\",\n      \"properties\": {\n        \"dtype\": \"number\",\n        \"std\": 16.255518953283907,\n        \"min\": 9.739828109741211,\n        \"max\": 95.2269287109375,\n        \"num_unique_values\": 4307,\n        \"samples\": [\n          10.05319881439209,\n          44.923614501953125,\n          38.25076675415039\n        ],\n        \"semantic_type\": \"\",\n        \"description\": \"\"\n      }\n    },\n    {\n      \"column\": \"XOM\",\n      \"properties\": {\n        \"dtype\": \"number\",\n        \"std\": 20.608885855222915,\n        \"min\": 24.80937957763672,\n        \"max\": 123.24581909179688,\n        \"num_unique_values\": 4356,\n        \"samples\": [\n          59.08283233642578,\n          55.14896774291992,\n          54.0356559753418\n        ],\n        \"semantic_type\": \"\",\n        \"description\": \"\"\n      }\n    }\n  ]\n}"
            }
          },
          "metadata": {},
          "execution_count": 54
        }
      ]
    },
    {
      "cell_type": "markdown",
      "source": [
        "Puedo observar que los datos están alejados de la predicción"
      ],
      "metadata": {
        "id": "XF4rMaau0in9"
      }
    },
    {
      "cell_type": "code",
      "source": [
        "import matplotlib.pyplot as plt\n",
        "\n",
        "plt.figure(figsize=(6, 6))\n",
        "plt.scatter(Y.flatten(), preds.flatten(), alpha=0.3)\n",
        "plt.plot([-3, 3], [-3, 3], color='red', linestyle='--')  # Línea ideal si normalizado\n",
        "plt.xlabel('Valor real (Y)')\n",
        "plt.ylabel('Predicción (Y_pred)')\n",
        "plt.title('Correlación entre valores reales y predichos')\n",
        "plt.grid(True)\n",
        "plt.axis('equal')\n",
        "plt.show()\n"
      ],
      "metadata": {
        "colab": {
          "base_uri": "https://localhost:8080/",
          "height": 565
        },
        "id": "e7rjuQPm2kBx",
        "outputId": "86d6f241-af7a-4512-b0a9-996daa47525b"
      },
      "execution_count": 42,
      "outputs": [
        {
          "output_type": "display_data",
          "data": {
            "text/plain": [
              "<Figure size 600x600 with 1 Axes>"
            ],
            "image/png": "[encoded data removed]"
          },
          "metadata": {}
        }
      ]
    },
    {
      "cell_type": "markdown",
      "source": [
        "Como observamos hay una buena correlación con los datos de predicción y de los reales pero no termino de entender porqué en el dataframe difieren tanto los valores con respecto a los reales obtenidos de yahoo finance"
      ],
      "metadata": {
        "id": "Lnqw-1eC8tCM"
      }
    }
  ]
}