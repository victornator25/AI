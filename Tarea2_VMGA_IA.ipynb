{
  "nbformat": 4,
  "nbformat_minor": 0,
  "metadata": {
    "colab": {
      "provenance": []
    },
    "kernelspec": {
      "name": "python3",
      "display_name": "Python 3"
    },
    "language_info": {
      "name": "python"
    }
  },
  "cells": [
    {
      "cell_type": "code",
      "execution_count": 8,
      "metadata": {
        "id": "t6OE-ueawYTk"
      },
      "outputs": [],
      "source": [
        "import numpy as np\n",
        "from sklearn.datasets import fetch_openml\n",
        "from sklearn.model_selection import train_test_split"
      ]
    },
    {
      "cell_type": "markdown",
      "source": [
        "Cargar la base de datos del mnist"
      ],
      "metadata": {
        "id": "dEK0P_iew7gB"
      }
    },
    {
      "cell_type": "code",
      "source": [
        "mnist = fetch_openml(\"mnist_784\")\n",
        "X, y = mnist.data, mnist.target.astype(int)\n",
        "\n",
        "# Seleccion de solo imagenes de dígitos 0 y 1\n",
        "#X = X[(y == 0) | (y == 1)]\n",
        "#y = y[(y == 0) | (y == 1)]\n",
        "# Convertir las etiquetas a codificación one-hot\n",
        "def one_hot_encode(y, num_classes=10):\n",
        "    return np.eye(num_classes)[y]\n",
        "\n",
        "\n",
        "# Separar en conjuntos de entrenamiento y prueba\n",
        "X_train, X_test, y_train, y_test = train_test_split(X, y, test_size=0.2, random_state=42)\n",
        "\n",
        "# Normalizar datos\n",
        "X_train = X_train / 255.0\n",
        "X_test  = X_test  / 255.0\n",
        "\n",
        "# dimensiones de los conjuntos\n",
        "print(X_train.shape, y_train.shape)\n",
        "print(X_test.shape, y_test.shape)"
      ],
      "metadata": {
        "colab": {
          "base_uri": "https://localhost:8080/"
        },
        "id": "yg0RgsygxaUz",
        "outputId": "792690dd-ce68-456d-ea19-3491c1ed370e"
      },
      "execution_count": 9,
      "outputs": [
        {
          "output_type": "stream",
          "name": "stdout",
          "text": [
            "(56000, 784) (56000,)\n",
            "(14000, 784) (14000,)\n"
          ]
        }
      ]
    },
    {
      "cell_type": "markdown",
      "source": [
        "Convertimos las etiquetas a One-hot y las imprimimos"
      ],
      "metadata": {
        "id": "1AwJdQh8JrZw"
      }
    },
    {
      "cell_type": "code",
      "source": [
        "#convertir las etiquetas a One-Hot\n",
        "y_train_one_hot = one_hot_encode(y_train)\n",
        "y_test_one_hot = one_hot_encode(y_test)\n",
        "\n",
        "# dimensiones de los conjuntos\n",
        "print(X_train.shape, y_train_one_hot.shape)\n",
        "print(X_test.shape, y_test_one_hot.shape)"
      ],
      "metadata": {
        "colab": {
          "base_uri": "https://localhost:8080/"
        },
        "id": "lbSsbvvJJyAu",
        "outputId": "2f874b1b-4294-42cf-dcf3-f2c07ddb98f7"
      },
      "execution_count": 10,
      "outputs": [
        {
          "output_type": "stream",
          "name": "stdout",
          "text": [
            "(56000, 784) (56000, 10)\n",
            "(14000, 784) (14000, 10)\n"
          ]
        }
      ]
    },
    {
      "cell_type": "markdown",
      "source": [
        "Función de activación"
      ],
      "metadata": {
        "id": "K6yvHKnyyBbN"
      }
    },
    {
      "cell_type": "code",
      "source": [
        "def phi(x):\n",
        "    return 1 / (1 + np.exp(-x))"
      ],
      "metadata": {
        "id": "GZFgh1ojx-8k"
      },
      "execution_count": 11,
      "outputs": []
    },
    {
      "cell_type": "markdown",
      "source": [
        "Inicializar pesos y biases, aumentamos el tamaño del modelo en vez de 64 a 150 dado que ya son 10 clases, output=10 para 10 clases"
      ],
      "metadata": {
        "id": "90lw96Lazl0I"
      }
    },
    {
      "cell_type": "code",
      "source": [
        "input_size = X_train.shape[1]\n",
        "hidden_size = 150\n",
        "output_size = 10\n",
        "\n",
        "#np.random.seed(0)  # descomentar si queremos replicar el entrenamiento\n",
        "W_1 = 0.1*np.random.randn(input_size, hidden_size,)\n",
        "b_1 = 0.1*np.zeros((1, hidden_size))\n",
        "W_2 = 0.1*np.random.randn(hidden_size,output_size,)\n",
        "b_2 = 0.1*np.zeros((1,output_size))"
      ],
      "metadata": {
        "id": "9iAaxGC6zqID"
      },
      "execution_count": 12,
      "outputs": []
    },
    {
      "cell_type": "markdown",
      "source": [
        "Parámetros de entrenamiento, agregamos los parámetros necesarios para AdamW estocástico"
      ],
      "metadata": {
        "id": "R5WHu55302Y6"
      }
    },
    {
      "cell_type": "code",
      "source": [
        "learning_rate = 1e-5\n",
        "epochs = 50\n",
        "\n",
        "beta1 = 0.9\n",
        "beta2 = 0.99\n",
        "epsilon = 1e-9\n",
        "\n",
        "# Inicialización de momentos para AdamW\n",
        "m_W1, m_b1, m_W2, m_b2 = np.zeros_like(W_1), np.zeros_like(b_1), np.zeros_like(W_2), np.zeros_like(b_2)\n",
        "v_W1, v_b1, v_W2, v_b2 = np.zeros_like(W_1), np.zeros_like(b_1), np.zeros_like(W_2), np.zeros_like(b_2)\n"
      ],
      "metadata": {
        "id": "Rt82umlo06CR"
      },
      "execution_count": 32,
      "outputs": []
    },
    {
      "cell_type": "markdown",
      "source": [
        "Ciclos de entrenamiento"
      ],
      "metadata": {
        "id": "MGKjHx051ui4"
      }
    },
    {
      "cell_type": "code",
      "source": [
        "#y_0 = X_train\n",
        "#y   = np.expand_dims(y_train, axis=-1)\n",
        "\n",
        "from sklearn.utils import shuffle #para mezclar aleatoriamente los datos\n",
        "\n",
        "Losses=[]\n",
        "for epoch in range(epochs):\n",
        "    # Mezclar los datos (esto es el entrenamiento estocástico)\n",
        "    X_train, y_train_one_hot = shuffle(X_train, y_train_one_hot)\n",
        "\n",
        "    # Propagación hacia adelante\n",
        "    z_1 = X_train @ W_1 + b_1\n",
        "    y_1 = phi(z_1)\n",
        "    z_2 = y_1 @ W_2 + b_2\n",
        "    y_2 = phi(z_2)\n",
        "\n",
        "    # Función de pérdida: entropía cruzada categórica\n",
        "    loss = -np.mean(np.sum(y_train_one_hot * np.log(y_2 + epsilon) + (1 - y_train_one_hot) * np.log(1 - y_2 + epsilon), axis=1))\n",
        "\n",
        "    # Backpropagation\n",
        "    delta_2 = y_2 - y_train_one_hot\n",
        "    delta_1 = np.dot(delta_2, W_2.T) * (y_1 * (1 - y_1))\n",
        "\n",
        "    grad_W2 = np.dot(y_1.T, delta_2)\n",
        "    grad_b2 = np.sum(np.array(delta_2), axis=0, keepdims=True)\n",
        "    grad_W1 = np.dot(X_train.T, delta_1)\n",
        "    grad_b1 = np.sum(np.array(delta_1), axis=0, keepdims=True)\n",
        "\n",
        "    # Actualizar momentos (AdamW)\n",
        "    m_W1 = beta1 * m_W1 + (1 - beta1) * grad_W1\n",
        "    m_b1 = beta1 * m_b1 + (1 - beta1) * grad_b1\n",
        "    m_W2 = beta1 * m_W2 + (1 - beta1) * grad_W2\n",
        "    m_b2 = beta1 * m_b2 + (1 - beta1) * grad_b2\n",
        "\n",
        "    v_W1 = beta2 * v_W1 + (1 - beta2) * grad_W1 ** 2\n",
        "    v_b1 = beta2 * v_b1 + (1 - beta2) * grad_b1 ** 2\n",
        "    v_W2 = beta2 * v_W2 + (1 - beta2) * grad_W2 ** 2\n",
        "    v_b2 = beta2 * v_b2 + (1 - beta2) * grad_b2 ** 2\n",
        "\n",
        "    # Corrección de sesgo para momentos\n",
        "    m_W1_hat = m_W1 / (1 - beta1 ** (epoch + 1))\n",
        "    m_b1_hat = m_b1 / (1 - beta1 ** (epoch + 1))\n",
        "    m_W2_hat = m_W2 / (1 - beta1 ** (epoch + 1))\n",
        "    m_b2_hat = m_b2 / (1 - beta1 ** (epoch + 1))\n",
        "\n",
        "    v_W1_hat = v_W1 / (1 - beta2 ** (epoch + 1))\n",
        "    v_b1_hat = v_b1 / (1 - beta2 ** (epoch + 1))\n",
        "    v_W2_hat = v_W2 / (1 - beta2 ** (epoch + 1))\n",
        "    v_b2_hat = v_b2 / (1 - beta2 ** (epoch + 1))\n",
        "\n",
        "    # Actualización de parámetros (AdamW)\n",
        "    W_1 -= learning_rate * m_W1_hat / (np.sqrt(v_W1_hat) + epsilon)\n",
        "    b_1 -= learning_rate * m_b1_hat / (np.sqrt(v_b1_hat) + epsilon)\n",
        "    W_2 -= learning_rate * m_W2_hat / (np.sqrt(v_W2_hat) + epsilon)\n",
        "    b_2 -= learning_rate * m_b2_hat / (np.sqrt(v_b2_hat) + epsilon)\n",
        "\n",
        "    # Reportar avance cada 1 época\n",
        "    if epoch % 1 == 0:\n",
        "        print(f\"Epoch {epoch}, Loss: {loss}\")\n",
        "        Losses.append([epoch, loss])\n",
        "\n",
        "Losses = np.array(Losses)\n",
        "\n",
        "# Evaluación de precisión\n",
        "z_1 = X_test @ W_1 + b_1\n",
        "y_1 = phi(z_1)\n",
        "z_2 = y_1 @ W_2 + b_2\n",
        "y_2 = phi(z_2)\n",
        "\n",
        "# Convierte las predicciones a clases\n",
        "predictions = np.argmax(y_2, axis=1)  # Tomamos la clase con mayor probabilidad\n",
        "y_test = np.array(y_test)\n",
        "\n",
        "# Calcula Exactitud\n",
        "accuracy = np.mean(predictions == y_test)\n",
        "print(f\"Exactitud de Prueba (Test accuracy): {accuracy}\")"
      ],
      "metadata": {
        "colab": {
          "base_uri": "https://localhost:8080/"
        },
        "id": "hfoh0E6W1x0o",
        "outputId": "8c99d9d5-c96d-4d58-d497-f00605ba6c58"
      },
      "execution_count": 33,
      "outputs": [
        {
          "output_type": "stream",
          "name": "stdout",
          "text": [
            "Epoch 0, Loss: 3.2256710394390304\n",
            "Epoch 1, Loss: 3.224693269237879\n",
            "Epoch 2, Loss: 3.2237171411090473\n",
            "Epoch 3, Loss: 3.2227426780658273\n",
            "Epoch 4, Loss: 3.2217699024073823\n",
            "Epoch 5, Loss: 3.220798835706578\n",
            "Epoch 6, Loss: 3.2198294988978575\n",
            "Epoch 7, Loss: 3.2188619123101403\n",
            "Epoch 8, Loss: 3.2178960956240465\n",
            "Epoch 9, Loss: 3.2169320677654625\n",
            "Epoch 10, Loss: 3.215969846813912\n",
            "Epoch 11, Loss: 3.2150094499410806\n",
            "Epoch 12, Loss: 3.2140508933734506\n",
            "Epoch 13, Loss: 3.2130941923731005\n",
            "Epoch 14, Loss: 3.2121393612302054\n",
            "Epoch 15, Loss: 3.2111864132615784\n",
            "Epoch 16, Loss: 3.2102353608138707\n",
            "Epoch 17, Loss: 3.2092862152729524\n",
            "Epoch 18, Loss: 3.2083389870800145\n",
            "Epoch 19, Loss: 3.2073936857522525\n",
            "Epoch 20, Loss: 3.2064503199046013\n",
            "Epoch 21, Loss: 3.205508897269466\n",
            "Epoch 22, Loss: 3.204569424713194\n",
            "Epoch 23, Loss: 3.2036319082497875\n",
            "Epoch 24, Loss: 3.2026963530535744\n",
            "Epoch 25, Loss: 3.2017627634728503\n",
            "Epoch 26, Loss: 3.200831143046102\n",
            "Epoch 27, Loss: 3.199901494521737\n",
            "Epoch 28, Loss: 3.198973819881547\n",
            "Epoch 29, Loss: 3.198048120367533\n",
            "Epoch 30, Loss: 3.1971243965114233\n",
            "Epoch 31, Loss: 3.1962026481660137\n",
            "Epoch 32, Loss: 3.1952828745375\n",
            "Epoch 33, Loss: 3.194365074218087\n",
            "Epoch 34, Loss: 3.193449245218325\n",
            "Epoch 35, Loss: 3.1925353849988216\n",
            "Epoch 36, Loss: 3.1916234905011103\n",
            "Epoch 37, Loss: 3.1907135581776105\n",
            "Epoch 38, Loss: 3.1898055840206476\n",
            "Epoch 39, Loss: 3.188899563590587\n",
            "Epoch 40, Loss: 3.1879954920430933\n",
            "Epoch 41, Loss: 3.187093364155572\n",
            "Epoch 42, Loss: 3.1861931743527925\n",
            "Epoch 43, Loss: 3.185294916731724\n",
            "Epoch 44, Loss: 3.184398585085559\n",
            "Epoch 45, Loss: 3.183504172926928\n",
            "Epoch 46, Loss: 3.182611673510297\n",
            "Epoch 47, Loss: 3.181721079853522\n",
            "Epoch 48, Loss: 3.180832384758548\n",
            "Epoch 49, Loss: 3.179945580831254\n",
            "Exactitud de Prueba (Test accuracy): 0.3535\n"
          ]
        }
      ]
    },
    {
      "cell_type": "markdown",
      "source": [
        "Prueba"
      ],
      "metadata": {
        "id": "T-7b5AzrIAzn"
      }
    },
    {
      "cell_type": "code",
      "source": [
        "import matplotlib.pyplot as plt\n",
        "\n",
        "plt.figure(figsize=(10,3))\n",
        "plt.plot(Losses[:,0],Losses[:,1])\n",
        "plt.title('Evolución de la pérdida durante entrenamiento')"
      ],
      "metadata": {
        "colab": {
          "base_uri": "https://localhost:8080/",
          "height": 331
        },
        "id": "EHxSGEjANV6i",
        "outputId": "fb39c877-aeae-42da-904d-fb0fcfd92cec"
      },
      "execution_count": 34,
      "outputs": [
        {
          "output_type": "execute_result",
          "data": {
            "text/plain": [
              "Text(0.5, 1.0, 'Evolución de la pérdida durante entrenamiento')"
            ]
          },
          "metadata": {},
          "execution_count": 34
        },
        {
          "output_type": "display_data",
          "data": {
            "text/plain": [
              "<Figure size 1000x300 with 1 Axes>"
            ],
            "image/png": "[encoded data removed]"
          },
          "metadata": {}
        }
      ]
    },
    {
      "cell_type": "markdown",
      "source": [
        "Para 10 clases es necesario un clasificador más robusto, pienso que la elección de usar como optimizador al AdamW fue de las mejores opciones de las qu hemos revisado anteriormente, por más que intenté ajustar parámetros no pude aumentar más el accuracy."
      ],
      "metadata": {
        "id": "NIBt6H6ANeHB"
      }
    }
  ]
}